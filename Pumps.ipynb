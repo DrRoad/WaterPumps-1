{
 "cells": [
  {
   "cell_type": "markdown",
   "metadata": {},
   "source": [
    "# **Tanzanian water pumps project**"
   ]
  },
  {
   "cell_type": "markdown",
   "metadata": {},
   "source": [
    "Data download: https://www.drivendata.org/competitions/7/pump-it-up-data-mining-the-water-table/data/"
   ]
  },
  {
   "cell_type": "code",
   "execution_count": 1,
   "metadata": {
    "collapsed": true
   },
   "outputs": [],
   "source": [
    "#math stuff\n",
    "import numpy as np\n",
    "import scipy.stats as ss\n",
    "\n",
    "#visualization\n",
    "import pandas as pd\n",
    "import seaborn as sns\n",
    "\n",
    "#plotting maps on Jupyter\n",
    "\n",
    "#plotting\n",
    "import matplotlib.pyplot as plt\n",
    "from mpl_toolkits.mplot3d import Axes3D\n",
    "\n",
    "#Machine Learning\n",
    "from sklearn.metrics import accuracy_score\n",
    "from sklearn.linear_model import LogisticRegression\n",
    "\n",
    "#debugginf\n",
    "from IPython import embed"
   ]
  },
  {
   "cell_type": "markdown",
   "metadata": {},
   "source": [
    "### Import Data"
   ]
  },
  {
   "cell_type": "code",
   "execution_count": 2,
   "metadata": {},
   "outputs": [
    {
     "name": "stdout",
     "output_type": "stream",
     "text": [
      "size train features: 59400, 40\n",
      "size train labels: 59400, 2\n",
      "size test features: 14850, 40\n"
     ]
    }
   ],
   "source": [
    "path = '/Users/andreacosta/Downloads/'  #modify this if needed\n",
    "X_tr = pd.read_csv(path+'train_values.csv')\n",
    "y_tr = pd.read_csv(path+'train_labels.csv')\n",
    "\n",
    "X_tst = pd.read_csv(path+'test_values.csv')\n",
    "\n",
    "#look at the data's shape\n",
    "print('size train features: '+str(X_tr.shape[0])+', '+ str(X_tr.shape[1]))\n",
    "print('size train labels: '+str(y_tr.shape[0])+', '+ str(y_tr.shape[1]))\n",
    "print('size test features: '+str(X_tst.shape[0])+', '+ str(X_tst.shape[1]))"
   ]
  },
  {
   "cell_type": "code",
   "execution_count": 3,
   "metadata": {},
   "outputs": [
    {
     "data": {
      "text/html": [
       "<div>\n",
       "<style>\n",
       "    .dataframe thead tr:only-child th {\n",
       "        text-align: right;\n",
       "    }\n",
       "\n",
       "    .dataframe thead th {\n",
       "        text-align: left;\n",
       "    }\n",
       "\n",
       "    .dataframe tbody tr th {\n",
       "        vertical-align: top;\n",
       "    }\n",
       "</style>\n",
       "<table border=\"1\" class=\"dataframe\">\n",
       "  <thead>\n",
       "    <tr style=\"text-align: right;\">\n",
       "      <th></th>\n",
       "      <th>id</th>\n",
       "      <th>amount_tsh</th>\n",
       "      <th>date_recorded</th>\n",
       "      <th>funder</th>\n",
       "      <th>gps_height</th>\n",
       "      <th>installer</th>\n",
       "      <th>longitude</th>\n",
       "      <th>latitude</th>\n",
       "      <th>wpt_name</th>\n",
       "      <th>num_private</th>\n",
       "      <th>...</th>\n",
       "      <th>payment_type</th>\n",
       "      <th>water_quality</th>\n",
       "      <th>quality_group</th>\n",
       "      <th>quantity</th>\n",
       "      <th>quantity_group</th>\n",
       "      <th>source</th>\n",
       "      <th>source_type</th>\n",
       "      <th>source_class</th>\n",
       "      <th>waterpoint_type</th>\n",
       "      <th>waterpoint_type_group</th>\n",
       "    </tr>\n",
       "  </thead>\n",
       "  <tbody>\n",
       "    <tr>\n",
       "      <th>0</th>\n",
       "      <td>69572</td>\n",
       "      <td>6000.0</td>\n",
       "      <td>2011-03-14</td>\n",
       "      <td>Roman</td>\n",
       "      <td>1390</td>\n",
       "      <td>Roman</td>\n",
       "      <td>34.938093</td>\n",
       "      <td>-9.856322</td>\n",
       "      <td>none</td>\n",
       "      <td>0</td>\n",
       "      <td>...</td>\n",
       "      <td>annually</td>\n",
       "      <td>soft</td>\n",
       "      <td>good</td>\n",
       "      <td>enough</td>\n",
       "      <td>enough</td>\n",
       "      <td>spring</td>\n",
       "      <td>spring</td>\n",
       "      <td>groundwater</td>\n",
       "      <td>communal standpipe</td>\n",
       "      <td>communal standpipe</td>\n",
       "    </tr>\n",
       "    <tr>\n",
       "      <th>1</th>\n",
       "      <td>8776</td>\n",
       "      <td>0.0</td>\n",
       "      <td>2013-03-06</td>\n",
       "      <td>Grumeti</td>\n",
       "      <td>1399</td>\n",
       "      <td>GRUMETI</td>\n",
       "      <td>34.698766</td>\n",
       "      <td>-2.147466</td>\n",
       "      <td>Zahanati</td>\n",
       "      <td>0</td>\n",
       "      <td>...</td>\n",
       "      <td>never pay</td>\n",
       "      <td>soft</td>\n",
       "      <td>good</td>\n",
       "      <td>insufficient</td>\n",
       "      <td>insufficient</td>\n",
       "      <td>rainwater harvesting</td>\n",
       "      <td>rainwater harvesting</td>\n",
       "      <td>surface</td>\n",
       "      <td>communal standpipe</td>\n",
       "      <td>communal standpipe</td>\n",
       "    </tr>\n",
       "    <tr>\n",
       "      <th>2</th>\n",
       "      <td>34310</td>\n",
       "      <td>25.0</td>\n",
       "      <td>2013-02-25</td>\n",
       "      <td>Lottery Club</td>\n",
       "      <td>686</td>\n",
       "      <td>World vision</td>\n",
       "      <td>37.460664</td>\n",
       "      <td>-3.821329</td>\n",
       "      <td>Kwa Mahundi</td>\n",
       "      <td>0</td>\n",
       "      <td>...</td>\n",
       "      <td>per bucket</td>\n",
       "      <td>soft</td>\n",
       "      <td>good</td>\n",
       "      <td>enough</td>\n",
       "      <td>enough</td>\n",
       "      <td>dam</td>\n",
       "      <td>dam</td>\n",
       "      <td>surface</td>\n",
       "      <td>communal standpipe multiple</td>\n",
       "      <td>communal standpipe</td>\n",
       "    </tr>\n",
       "    <tr>\n",
       "      <th>3</th>\n",
       "      <td>67743</td>\n",
       "      <td>0.0</td>\n",
       "      <td>2013-01-28</td>\n",
       "      <td>Unicef</td>\n",
       "      <td>263</td>\n",
       "      <td>UNICEF</td>\n",
       "      <td>38.486161</td>\n",
       "      <td>-11.155298</td>\n",
       "      <td>Zahanati Ya Nanyumbu</td>\n",
       "      <td>0</td>\n",
       "      <td>...</td>\n",
       "      <td>never pay</td>\n",
       "      <td>soft</td>\n",
       "      <td>good</td>\n",
       "      <td>dry</td>\n",
       "      <td>dry</td>\n",
       "      <td>machine dbh</td>\n",
       "      <td>borehole</td>\n",
       "      <td>groundwater</td>\n",
       "      <td>communal standpipe multiple</td>\n",
       "      <td>communal standpipe</td>\n",
       "    </tr>\n",
       "    <tr>\n",
       "      <th>4</th>\n",
       "      <td>19728</td>\n",
       "      <td>0.0</td>\n",
       "      <td>2011-07-13</td>\n",
       "      <td>Action In A</td>\n",
       "      <td>0</td>\n",
       "      <td>Artisan</td>\n",
       "      <td>31.130847</td>\n",
       "      <td>-1.825359</td>\n",
       "      <td>Shuleni</td>\n",
       "      <td>0</td>\n",
       "      <td>...</td>\n",
       "      <td>never pay</td>\n",
       "      <td>soft</td>\n",
       "      <td>good</td>\n",
       "      <td>seasonal</td>\n",
       "      <td>seasonal</td>\n",
       "      <td>rainwater harvesting</td>\n",
       "      <td>rainwater harvesting</td>\n",
       "      <td>surface</td>\n",
       "      <td>communal standpipe</td>\n",
       "      <td>communal standpipe</td>\n",
       "    </tr>\n",
       "  </tbody>\n",
       "</table>\n",
       "<p>5 rows × 40 columns</p>\n",
       "</div>"
      ],
      "text/plain": [
       "      id  amount_tsh date_recorded        funder  gps_height     installer  \\\n",
       "0  69572      6000.0    2011-03-14         Roman        1390         Roman   \n",
       "1   8776         0.0    2013-03-06       Grumeti        1399       GRUMETI   \n",
       "2  34310        25.0    2013-02-25  Lottery Club         686  World vision   \n",
       "3  67743         0.0    2013-01-28        Unicef         263        UNICEF   \n",
       "4  19728         0.0    2011-07-13   Action In A           0       Artisan   \n",
       "\n",
       "   longitude   latitude              wpt_name  num_private  \\\n",
       "0  34.938093  -9.856322                  none            0   \n",
       "1  34.698766  -2.147466              Zahanati            0   \n",
       "2  37.460664  -3.821329           Kwa Mahundi            0   \n",
       "3  38.486161 -11.155298  Zahanati Ya Nanyumbu            0   \n",
       "4  31.130847  -1.825359               Shuleni            0   \n",
       "\n",
       "           ...          payment_type water_quality quality_group  \\\n",
       "0          ...              annually          soft          good   \n",
       "1          ...             never pay          soft          good   \n",
       "2          ...            per bucket          soft          good   \n",
       "3          ...             never pay          soft          good   \n",
       "4          ...             never pay          soft          good   \n",
       "\n",
       "       quantity  quantity_group                source           source_type  \\\n",
       "0        enough          enough                spring                spring   \n",
       "1  insufficient    insufficient  rainwater harvesting  rainwater harvesting   \n",
       "2        enough          enough                   dam                   dam   \n",
       "3           dry             dry           machine dbh              borehole   \n",
       "4      seasonal        seasonal  rainwater harvesting  rainwater harvesting   \n",
       "\n",
       "   source_class              waterpoint_type waterpoint_type_group  \n",
       "0   groundwater           communal standpipe    communal standpipe  \n",
       "1       surface           communal standpipe    communal standpipe  \n",
       "2       surface  communal standpipe multiple    communal standpipe  \n",
       "3   groundwater  communal standpipe multiple    communal standpipe  \n",
       "4       surface           communal standpipe    communal standpipe  \n",
       "\n",
       "[5 rows x 40 columns]"
      ]
     },
     "execution_count": 3,
     "metadata": {},
     "output_type": "execute_result"
    }
   ],
   "source": [
    "X_tr.head(5)"
   ]
  },
  {
   "cell_type": "markdown",
   "metadata": {},
   "source": [
    "### Divide features by type"
   ]
  },
  {
   "cell_type": "code",
   "execution_count": 4,
   "metadata": {},
   "outputs": [
    {
     "name": "stdout",
     "output_type": "stream",
     "text": [
      "   gps_height  longitude   latitude                    basin  subvillage  \\\n",
      "0        1390  34.938093  -9.856322               Lake Nyasa    Mnyusi B   \n",
      "1        1399  34.698766  -2.147466            Lake Victoria     Nyamara   \n",
      "2         686  37.460664  -3.821329                  Pangani     Majengo   \n",
      "3         263  38.486161 -11.155298  Ruvuma / Southern Coast  Mahakamani   \n",
      "4           0  31.130847  -1.825359            Lake Victoria  Kyanyamisa   \n",
      "\n",
      "    region  region_code  district_code        lga        ward  \n",
      "0   Iringa           11              5     Ludewa    Mundindi  \n",
      "1     Mara           20              2  Serengeti       Natta  \n",
      "2  Manyara           21              4  Simanjiro     Ngorika  \n",
      "3   Mtwara           90             63   Nanyumbu    Nanyumbu  \n",
      "4   Kagera           18              1    Karagwe  Nyakasimbi  \n",
      "\n",
      "gps_height 2428\n",
      "longitude 57516\n",
      "latitude 57517\n",
      "basin 9\n",
      "subvillage 19288\n",
      "region 21\n",
      "region_code 27\n",
      "district_code 20\n",
      "lga 125\n",
      "ward 2092\n",
      "  date_recorded  construction_year\n",
      "0    2011-03-14               1999\n",
      "1    2013-03-06               2010\n",
      "2    2013-02-25               2009\n",
      "3    2013-01-28               1986\n",
      "4    2011-07-13                  0\n",
      "\n",
      "date_recorded 356\n",
      "construction_year 55\n",
      "   amount_tsh  population  num_private\n",
      "0      6000.0         109            0\n",
      "1         0.0         280            0\n",
      "2        25.0         250            0\n",
      "3         0.0          58            0\n",
      "4         0.0           0            0\n",
      "\n",
      "amount_tsh 98\n",
      "population 1049\n",
      "num_private 65\n",
      "         funder     installer              wpt_name public_meeting  \\\n",
      "0         Roman         Roman                  none           True   \n",
      "1       Grumeti       GRUMETI              Zahanati            NaN   \n",
      "2  Lottery Club  World vision           Kwa Mahundi           True   \n",
      "3        Unicef        UNICEF  Zahanati Ya Nanyumbu           True   \n",
      "4   Action In A       Artisan               Shuleni           True   \n",
      "\n",
      "               recorded_by scheme_management                  scheme_name  \\\n",
      "0  GeoData Consultants Ltd               VWC                        Roman   \n",
      "1  GeoData Consultants Ltd             Other                          NaN   \n",
      "2  GeoData Consultants Ltd               VWC  Nyumba ya mungu pipe scheme   \n",
      "3  GeoData Consultants Ltd               VWC                          NaN   \n",
      "4  GeoData Consultants Ltd               NaN                          NaN   \n",
      "\n",
      "  permit extraction_type extraction_type_group          ...           \\\n",
      "0  False         gravity               gravity          ...            \n",
      "1   True         gravity               gravity          ...            \n",
      "2   True         gravity               gravity          ...            \n",
      "3   True     submersible           submersible          ...            \n",
      "4   True         gravity               gravity          ...            \n",
      "\n",
      "  payment_type water_quality quality_group      quantity quantity_group  \\\n",
      "0     annually          soft          good        enough         enough   \n",
      "1    never pay          soft          good  insufficient   insufficient   \n",
      "2   per bucket          soft          good        enough         enough   \n",
      "3    never pay          soft          good           dry            dry   \n",
      "4    never pay          soft          good      seasonal       seasonal   \n",
      "\n",
      "                 source           source_type source_class  \\\n",
      "0                spring                spring  groundwater   \n",
      "1  rainwater harvesting  rainwater harvesting      surface   \n",
      "2                   dam                   dam      surface   \n",
      "3           machine dbh              borehole  groundwater   \n",
      "4  rainwater harvesting  rainwater harvesting      surface   \n",
      "\n",
      "               waterpoint_type waterpoint_type_group  \n",
      "0           communal standpipe    communal standpipe  \n",
      "1           communal standpipe    communal standpipe  \n",
      "2  communal standpipe multiple    communal standpipe  \n",
      "3  communal standpipe multiple    communal standpipe  \n",
      "4           communal standpipe    communal standpipe  \n",
      "\n",
      "[5 rows x 24 columns]\n",
      "\n",
      "funder 1898\n",
      "installer 2146\n",
      "wpt_name 37400\n",
      "public_meeting 3\n",
      "recorded_by 1\n",
      "scheme_management 13\n",
      "scheme_name 2697\n",
      "permit 3\n",
      "extraction_type 18\n",
      "extraction_type_group 13\n",
      "extraction_type_class 7\n",
      "management 12\n",
      "management_group 5\n",
      "payment 7\n",
      "payment_type 7\n",
      "water_quality 8\n",
      "quality_group 6\n",
      "quantity 5\n",
      "quantity_group 5\n",
      "source 10\n",
      "source_type 7\n",
      "source_class 3\n",
      "waterpoint_type 7\n",
      "waterpoint_type_group 6\n",
      "No. of categories = 38\n",
      "\n"
     ]
    }
   ],
   "source": [
    "#geographical\n",
    "geog = ['gps_height','longitude','latitude','basin','subvillage','region','region_code','district_code','lga','ward']\n",
    "print(X_tr[geog].head(5))\n",
    "print('')\n",
    "#sanity check\n",
    "for col in geog:\n",
    "    print(col, len(X_tr[col].unique()))\n",
    "\n",
    "#time\n",
    "dates = ['date_recorded', 'construction_year']\n",
    "print(X_tr[dates].head(5))\n",
    "print('')\n",
    "#sanity check\n",
    "for col in dates:\n",
    "    print(col, len(X_tr[col].unique()))\n",
    "    \n",
    "#numerical\n",
    "numerics = ['amount_tsh', 'population','num_private']\n",
    "print(X_tr[numerics].head(5))\n",
    "print('')\n",
    "#sanity check\n",
    "for col in numerics:\n",
    "    print(col, len(X_tr[col].unique()))\n",
    "    \n",
    "#categorical\n",
    "categories = [col for col in list(X_tr.columns) if not(col in geog) and not(col in dates) and not (col in numerics)]\n",
    "categories.remove('id')\n",
    "print(X_tr[categories].head(5))\n",
    "print('')\n",
    "#sanity check\n",
    "for col in categories:\n",
    "    print(col, len(X_tr[col].unique()))\n",
    "##we see that 'recorded by' only has 1s. So erase it\n",
    "categories.remove('recorded_by')\n",
    "#Actual erasing done in the data cleaning below\n",
    "\n",
    "#check that they are all\n",
    "print('No. of categories = '+str(len(geog+dates+numerics+categories)))\n",
    "print('')"
   ]
  },
  {
   "cell_type": "code",
   "execution_count": 5,
   "metadata": {},
   "outputs": [
    {
     "name": "stdout",
     "output_type": "stream",
     "text": [
      "id                                         69572\n",
      "amount_tsh                                  6000\n",
      "date_recorded                         2011-03-14\n",
      "funder                                     Roman\n",
      "gps_height                                  1390\n",
      "installer                                  Roman\n",
      "longitude                                34.9381\n",
      "latitude                                -9.85632\n",
      "wpt_name                                    none\n",
      "num_private                                    0\n",
      "basin                                 Lake Nyasa\n",
      "subvillage                              Mnyusi B\n",
      "region                                    Iringa\n",
      "region_code                                   11\n",
      "district_code                                  5\n",
      "lga                                       Ludewa\n",
      "ward                                    Mundindi\n",
      "population                                   109\n",
      "public_meeting                              True\n",
      "recorded_by              GeoData Consultants Ltd\n",
      "scheme_management                            VWC\n",
      "scheme_name                                Roman\n",
      "permit                                     False\n",
      "construction_year                           1999\n",
      "extraction_type                          gravity\n",
      "extraction_type_group                    gravity\n",
      "extraction_type_class                    gravity\n",
      "management                                   vwc\n",
      "management_group                      user-group\n",
      "payment                             pay annually\n",
      "payment_type                            annually\n",
      "water_quality                               soft\n",
      "quality_group                               good\n",
      "quantity                                  enough\n",
      "quantity_group                            enough\n",
      "source                                    spring\n",
      "source_type                               spring\n",
      "source_class                         groundwater\n",
      "waterpoint_type               communal standpipe\n",
      "waterpoint_type_group         communal standpipe\n",
      "Name: 0, dtype: object\n"
     ]
    }
   ],
   "source": [
    "#display all labels and one value example\n",
    "print(X_tr.loc[[0][0]])"
   ]
  },
  {
   "cell_type": "markdown",
   "metadata": {},
   "source": [
    "## Data cleaning"
   ]
  },
  {
   "cell_type": "code",
   "execution_count": 6,
   "metadata": {},
   "outputs": [
    {
     "name": "stdout",
     "output_type": "stream",
     "text": [
      "Tot. No. of pumps: 74250\n"
     ]
    }
   ],
   "source": [
    "#merge data in order to clean all of them\n",
    "X = pd.concat([X_tr, X_tst])\n",
    "print('Tot. No. of pumps: '+str(X.shape[0]))\n",
    "\n",
    "##we saw that 'recorded by' only has 1s. So erase it\n",
    "X = X.drop('recorded_by', axis=1)"
   ]
  },
  {
   "cell_type": "markdown",
   "metadata": {},
   "source": [
    "### Null data treatment"
   ]
  },
  {
   "cell_type": "code",
   "execution_count": 7,
   "metadata": {},
   "outputs": [
    {
     "name": "stdout",
     "output_type": "stream",
     "text": [
      "funder 4504 <class 'str'>\n",
      "installer 4532 <class 'str'>\n",
      "subvillage 470 <class 'str'>\n",
      "public_meeting 4155 <class 'bool'>\n",
      "scheme_management 4846 <class 'str'>\n",
      "scheme_name 35258 <class 'str'>\n",
      "permit 3793 <class 'bool'>\n"
     ]
    }
   ],
   "source": [
    "# Find columns with Null values and their number\n",
    "nullcols = []\n",
    "for col in X.columns:\n",
    "    nmbnull = (X[col].isnull()*1).sum()\n",
    "    if ( nmbnull > 0 ):\n",
    "        tp = type(X[X[col].notnull()][col].iat[0]) # type of (first) non null value\n",
    "        nullcols.append([col, tp])\n",
    "        print(col, nmbnull, tp)"
   ]
  },
  {
   "cell_type": "code",
   "execution_count": 8,
   "metadata": {
    "collapsed": true
   },
   "outputs": [],
   "source": [
    "# Fill Null values in string columns with \"MISSING\"\n",
    "for col, tp in nullcols:\n",
    "    if (tp == type('abc')):\n",
    "        X.loc[X[col].isnull(), col] = 'MISSING'\n",
    "        \n",
    "# For boolean (just a special case of category) : convert into string, then replace Null with \"MISSING\"\n",
    "for col, tp in nullcols:\n",
    "    if (tp == type(True)):\n",
    "        X.loc[X[col]==True, col] = 'TRUE'\n",
    "        X.loc[X[col]==False, col] = 'FALSE'\n",
    "        X.loc[X[col].isnull(), col] = 'MISSING'"
   ]
  },
  {
   "cell_type": "code",
   "execution_count": 9,
   "metadata": {},
   "outputs": [
    {
     "data": {
      "text/plain": [
       "id                       False\n",
       "amount_tsh               False\n",
       "date_recorded            False\n",
       "funder                   False\n",
       "gps_height               False\n",
       "installer                False\n",
       "longitude                False\n",
       "latitude                 False\n",
       "wpt_name                 False\n",
       "num_private              False\n",
       "basin                    False\n",
       "subvillage               False\n",
       "region                   False\n",
       "region_code              False\n",
       "district_code            False\n",
       "lga                      False\n",
       "ward                     False\n",
       "population               False\n",
       "public_meeting           False\n",
       "scheme_management        False\n",
       "scheme_name              False\n",
       "permit                   False\n",
       "construction_year        False\n",
       "extraction_type          False\n",
       "extraction_type_group    False\n",
       "extraction_type_class    False\n",
       "management               False\n",
       "management_group         False\n",
       "payment                  False\n",
       "payment_type             False\n",
       "water_quality            False\n",
       "quality_group            False\n",
       "quantity                 False\n",
       "quantity_group           False\n",
       "source                   False\n",
       "source_type              False\n",
       "source_class             False\n",
       "waterpoint_type          False\n",
       "waterpoint_type_group    False\n",
       "dtype: bool"
      ]
     },
     "execution_count": 9,
     "metadata": {},
     "output_type": "execute_result"
    }
   ],
   "source": [
    "#check if it worked\n",
    "X.isnull().any()"
   ]
  },
  {
   "cell_type": "markdown",
   "metadata": {},
   "source": [
    "### Sanity check on geographical values"
   ]
  },
  {
   "cell_type": "code",
   "execution_count": 10,
   "metadata": {},
   "outputs": [
    {
     "name": "stdout",
     "output_type": "stream",
     "text": [
      "gps_height 0 0.34\n",
      "gps_height -16 0.0\n",
      "gps_height -15 0.0\n",
      "gps_height -13 0.0\n",
      "gps_height -19 0.0\n",
      "longitude 0.0 0.03\n",
      "longitude 37.25011096 0.0\n",
      "longitude 32.99609259 0.0\n",
      "longitude 37.54157917 0.0\n",
      "longitude 32.9936827 0.0\n",
      "latitude -2e-08 0.03\n",
      "latitude -6.98012199 0.0\n",
      "latitude -6.98077879 0.0\n",
      "latitude -2.46713695 0.0\n",
      "latitude -6.9644683 0.0\n",
      "basin Lake Victoria 0.17\n",
      "basin Pangani 0.15\n",
      "basin Rufiji 0.13\n",
      "basin Internal 0.12\n",
      "basin Lake Tanganyika 0.1\n",
      "subvillage Shuleni 0.0\n",
      "subvillage Majengo 0.0\n",
      "subvillage Madukani 0.0\n",
      "subvillage MISSING 0.0\n",
      "subvillage Kati 0.0\n",
      "region Iringa 0.08\n",
      "region Shinyanga 0.08\n",
      "region Mbeya 0.07\n",
      "region Kilimanjaro 0.07\n",
      "region Morogoro 0.06\n",
      "region_code 11 0.08\n",
      "region_code 17 0.08\n",
      "region_code 12 0.07\n",
      "region_code 3 0.07\n",
      "region_code 5 0.06\n",
      "district_code 1 0.2\n",
      "district_code 2 0.18\n",
      "district_code 3 0.16\n",
      "district_code 4 0.15\n",
      "district_code 5 0.07\n",
      "lga Njombe 0.04\n",
      "lga Moshi Rural 0.02\n",
      "lga Arusha Rural 0.02\n",
      "lga Bariadi 0.02\n",
      "lga Rungwe 0.01\n",
      "ward Igosi 0.0\n",
      "ward Imalinyi 0.0\n",
      "ward Siha Kati 0.0\n",
      "ward Mdandu 0.0\n",
      "ward Nduruma 0.0\n"
     ]
    }
   ],
   "source": [
    "#Check frequency of most common values\n",
    "for col in geog: \n",
    "    cs = X[col].value_counts(normalize=True, sort=True, ascending=False)\n",
    "    for k in cs.keys()[0:5]:\n",
    "        print( col, k, int(100*cs[k])/100 ) #rounding"
   ]
  },
  {
   "cell_type": "code",
   "execution_count": 11,
   "metadata": {},
   "outputs": [
    {
     "name": "stdout",
     "output_type": "stream",
     "text": [
      "1277\n"
     ]
    },
    {
     "data": {
      "text/plain": [
       "basin\n",
       "Internal                   1476.981478\n",
       "Lake Nyasa                 1521.101331\n",
       "Lake Rukwa                 1410.216915\n",
       "Lake Tanganyika            1269.110643\n",
       "Lake Victoria              1328.311300\n",
       "Pangani                    1102.570978\n",
       "Rufiji                     1089.347315\n",
       "Ruvuma / Southern Coast     455.507078\n",
       "Wami / Ruvu                 310.433503\n",
       "Name: gps_height, dtype: float64"
      ]
     },
     "execution_count": 11,
     "metadata": {},
     "output_type": "execute_result"
    }
   ],
   "source": [
    "#Substitute the 0s in gps_height with means gps_height\n",
    "# at \"basin\"/\"region\"/\"lga\"/\"ward\" scale\n",
    "bound_df = X[X['gps_height']>0]\n",
    "print( bound_df.groupby(['basin',])['id'].count().min() ) # check enough data in each bucket\n",
    "\n",
    "mean_geo_df = bound_df.groupby(['basin'])['gps_height'].mean()\n",
    "\n",
    "assert(mean_geo_df.shape[0] == len(X['basin'].unique()))\n",
    "\n",
    "mean_geo_df"
   ]
  },
  {
   "cell_type": "code",
   "execution_count": 12,
   "metadata": {},
   "outputs": [],
   "source": [
    "# Before over-writing keep track of suspect rows with new binary columns\n",
    "oldX=X\n",
    "oldX['gps_height_orig'] = X['gps_height']<=0\n",
    "\n",
    "# Modify\n",
    "# Set \"Basin\" as the index.\n",
    "v = X.set_index('basin')['gps_height']  \n",
    "# Mask values that <= 0 and fill NaNs by the computed mean. \n",
    "X['gps_height'] = v.mask(v.le(0)).fillna(mean_geo_df).values"
   ]
  },
  {
   "cell_type": "code",
   "execution_count": 13,
   "metadata": {},
   "outputs": [
    {
     "name": "stdout",
     "output_type": "stream",
     "text": [
      "gps_height\n",
      "gps_height 1328.31129997 0.13\n",
      "gps_height 1476.98147825 0.05\n",
      "gps_height 1269.11064302 0.04\n",
      "gps_height 1521.10133091 0.04\n",
      "gps_height 310.433503335 0.03\n",
      "longitude\n",
      "longitude 0.0 0.03\n",
      "longitude 37.25011096 0.0\n",
      "longitude 32.99609259 0.0\n",
      "longitude 37.54157917 0.0\n",
      "longitude 32.9936827 0.0\n",
      "latitude\n",
      "latitude -2e-08 0.03\n",
      "latitude -6.98012199 0.0\n",
      "latitude -6.98077879 0.0\n",
      "latitude -2.46713695 0.0\n",
      "latitude -6.9644683 0.0\n",
      "basin\n",
      "basin Lake Victoria 0.17\n",
      "basin Pangani 0.15\n",
      "basin Rufiji 0.13\n",
      "basin Internal 0.12\n",
      "basin Lake Tanganyika 0.1\n",
      "subvillage\n",
      "subvillage Shuleni 0.0\n",
      "subvillage Majengo 0.0\n",
      "subvillage Madukani 0.0\n",
      "subvillage MISSING 0.0\n",
      "subvillage Kati 0.0\n",
      "region\n",
      "region Iringa 0.08\n",
      "region Shinyanga 0.08\n",
      "region Mbeya 0.07\n",
      "region Kilimanjaro 0.07\n",
      "region Morogoro 0.06\n",
      "region_code\n",
      "region_code 11 0.08\n",
      "region_code 17 0.08\n",
      "region_code 12 0.07\n",
      "region_code 3 0.07\n",
      "region_code 5 0.06\n",
      "district_code\n",
      "district_code 1 0.2\n",
      "district_code 2 0.18\n",
      "district_code 3 0.16\n",
      "district_code 4 0.15\n",
      "district_code 5 0.07\n",
      "lga\n",
      "lga Njombe 0.04\n",
      "lga Moshi Rural 0.02\n",
      "lga Arusha Rural 0.02\n",
      "lga Bariadi 0.02\n",
      "lga Rungwe 0.01\n",
      "ward\n",
      "ward Igosi 0.0\n",
      "ward Imalinyi 0.0\n",
      "ward Siha Kati 0.0\n",
      "ward Mdandu 0.0\n",
      "ward Nduruma 0.0\n"
     ]
    }
   ],
   "source": [
    "#check if it worked\n",
    "for col in geog: \n",
    "    print(col)\n",
    "    cs = X[col].value_counts(normalize=True, sort=True, ascending=False)\n",
    "    for k in cs.keys()[0:5]:\n",
    "        print( col, k, int(100*cs[k])/100 ) #rounding"
   ]
  },
  {
   "cell_type": "markdown",
   "metadata": {},
   "source": [
    "### Sanity check on time values"
   ]
  },
  {
   "cell_type": "code",
   "execution_count": 14,
   "metadata": {},
   "outputs": [
    {
     "name": "stdout",
     "output_type": "stream",
     "text": [
      "0    2011-03-14\n",
      "1    2013-03-06\n",
      "2    2013-02-25\n",
      "3    2013-01-28\n",
      "4    2011-07-13\n",
      "Name: date_recorded, dtype: object\n",
      "\n",
      "0    1999\n",
      "1    2010\n",
      "2    2009\n",
      "3    1986\n",
      "4       0\n",
      "Name: construction_year, dtype: int64\n",
      "\n",
      "date_recorded 2011-03-17 0.93\n",
      "date_recorded 2011-03-15 0.93\n",
      "date_recorded 2013-02-03 0.92\n",
      "date_recorded 2011-03-16 0.87\n",
      "date_recorded 2011-03-14 0.87\n",
      "construction_year 0 34.97\n",
      "construction_year 2010 4.46\n",
      "construction_year 2008 4.36\n",
      "construction_year 2009 4.3\n",
      "construction_year 2000 3.47\n"
     ]
    }
   ],
   "source": [
    "print(X['date_recorded'].head(5))\n",
    "print('')\n",
    "\n",
    "print(X['construction_year'].head(5))\n",
    "print('')\n",
    "\n",
    "for col in dates: # Check frequency of most common values\n",
    "    cs = X[col].value_counts(normalize=True, sort=True, ascending=False)\n",
    "    for k in cs.keys()[0:5]:\n",
    "        print( col, k, int(cs[k]*10000)/100. ) #rounding\n",
    "\n",
    "# WARNING : \"construction_year\" is 0 for one-third of the records"
   ]
  },
  {
   "cell_type": "code",
   "execution_count": 15,
   "metadata": {},
   "outputs": [
    {
     "name": "stdout",
     "output_type": "stream",
     "text": [
      "construction_year 2010 6.93\n",
      "construction_year 2008 6.74\n",
      "construction_year 2009 6.61\n",
      "construction_year 2000 5.27\n",
      "construction_year 2007 4.13\n"
     ]
    }
   ],
   "source": [
    "#set zero values to mean epoch\n",
    "oldX['construction_year_orig'] = X['construction_year'] #to keep track\n",
    "\n",
    "#mean_year = int(np.round(X[X['construction_year']>0]['construction_year'].mean()))\n",
    "#print(mean_year)\n",
    "\n",
    "#X.loc[X['construction_year']==0, 'construction_year'] = mean_year\n",
    "\n",
    "#or draw random date from available ones\n",
    "X.loc[X['construction_year']==0, 'construction_year'] = \\\n",
    "np.random.choice(X.loc[X['construction_year']!=0, 'construction_year'], len(X.loc[X['construction_year']==0, 'construction_year']))\n",
    "\n",
    "#check if it worked\n",
    "cs = X['construction_year'].value_counts(normalize=True, sort=True, ascending=False)\n",
    "for k in cs.keys()[0:5]:\n",
    "    print( col, k, int(cs[k]*10000)/100. ) "
   ]
  },
  {
   "cell_type": "code",
   "execution_count": 16,
   "metadata": {},
   "outputs": [
    {
     "name": "stdout",
     "output_type": "stream",
     "text": [
      "0    2011.2883\n",
      "1    2013.2664\n",
      "2    2013.2351\n",
      "3    2013.1600\n",
      "4    2011.6189\n",
      "Name: date_recorded, dtype: float64\n",
      "0    19\n",
      "1     8\n",
      "2     9\n",
      "3    32\n",
      "4    34\n",
      "Name: construction_year, dtype: int64\n"
     ]
    }
   ],
   "source": [
    "#tranform date to epoch  == pump age\n",
    "oldX['date_recorded_orig'] = X['date_recorded'] #to keep track\n",
    "\n",
    "X['date_recorded']=X['date_recorded'].apply(lambda x: \\\n",
    "    int(( int(x.split('-')[0])+int(x.split('-')[1])/12+int(x.split('-')[2])/365)*10000 )/10000)\n",
    "print(X['date_recorded'].head(5))\n",
    "\n",
    "X['construction_year']=X['construction_year'].apply(lambda x: 2018-x) #pump age\n",
    "print(X['construction_year'].head(5))"
   ]
  },
  {
   "cell_type": "markdown",
   "metadata": {},
   "source": [
    "### Convert string values to numbers"
   ]
  },
  {
   "cell_type": "code",
   "execution_count": 17,
   "metadata": {},
   "outputs": [
    {
     "name": "stdout",
     "output_type": "stream",
     "text": [
      "['id', 'funder', 'installer', 'wpt_name', 'public_meeting', 'scheme_management', 'scheme_name', 'permit', 'extraction_type', 'extraction_type_group', 'extraction_type_class', 'management', 'management_group', 'payment', 'payment_type', 'water_quality', 'quality_group', 'quantity', 'quantity_group', 'source', 'source_type', 'source_class', 'waterpoint_type', 'waterpoint_type_group', 'gps_height_orig', 'construction_year_orig', 'date_recorded_orig']\n",
      "Trim values :  id 74250\n",
      "Trim values :  funder 1945\n",
      "Trim values :  installer 2223\n",
      "Trim values :  wpt_name 45618\n",
      "Trim values :  scheme_management 1\n",
      "Trim values :  scheme_name 2692\n",
      "Trim values :  extraction_type 1\n",
      "Trim values :  water_quality 1\n",
      "Trim values :  waterpoint_type 1\n",
      "Trim values :  waterpoint_type_group 1\n",
      "Trim values :  construction_year_orig 4\n",
      "Trim values :  date_recorded_orig 113\n"
     ]
    }
   ],
   "source": [
    "categorical = [col for col in list(X.columns) if not(col in geog) and not(col in dates) and not (col in numerics)]\n",
    "print(categorical)\n",
    "\n",
    "for col in categorical:\n",
    "    cs = X[col].value_counts(normalize=False, sort=True, ascending=False)\n",
    "    rare_values = [k for k in cs.keys() if cs[k]<40]\n",
    "    if len(rare_values)>0:\n",
    "        print( 'Trim values : ', col, len(rare_values))\n",
    "        X.loc[X[col].isin(rare_values), col] = col+'_rare'\n"
   ]
  },
  {
   "cell_type": "code",
   "execution_count": 18,
   "metadata": {
    "collapsed": true
   },
   "outputs": [],
   "source": [
    "##we also drop the id\n",
    "\n",
    "X = X.drop('id', axis=1)"
   ]
  },
  {
   "cell_type": "code",
   "execution_count": 19,
   "metadata": {
    "scrolled": false
   },
   "outputs": [],
   "source": [
    "#print('nan = '+str(X.isnull().sum().sum()))  #debugging\n",
    "\n",
    "#label encoding\n",
    "from sklearn.feature_extraction import DictVectorizer\n",
    "\n",
    "vec = DictVectorizer(sparse=False, dtype=int)\n",
    "X = vec.fit_transform(X.to_dict(orient='record'))\n",
    "#for col in categorical:\n",
    "    #print(type(X[col])) #debug\n",
    "#    X[col] = vec.fit_transform(X[col])"
   ]
  },
  {
   "cell_type": "code",
   "execution_count": 20,
   "metadata": {},
   "outputs": [],
   "source": [
    "#also convert remaining string values\n",
    "#for col in list(X.columns):\n",
    "#    if X[col].dtype != np.number: \n",
    "#        X[col] = vec.fit_transform(X[col])"
   ]
  },
  {
   "cell_type": "code",
   "execution_count": 21,
   "metadata": {},
   "outputs": [
    {
     "data": {
      "text/plain": [
       "False"
      ]
     },
     "execution_count": 21,
     "metadata": {},
     "output_type": "execute_result"
    }
   ],
   "source": [
    "# check if it worked\n",
    "#X.applymap(type).eq(str).any()\n",
    "np.isnan(X).any()"
   ]
  },
  {
   "cell_type": "code",
   "execution_count": 22,
   "metadata": {},
   "outputs": [
    {
     "data": {
      "text/plain": [
       "(74250, 24725)"
      ]
     },
     "execution_count": 22,
     "metadata": {},
     "output_type": "execute_result"
    }
   ],
   "source": [
    "X.shape"
   ]
  },
  {
   "cell_type": "markdown",
   "metadata": {},
   "source": [
    "### Look at the labels"
   ]
  },
  {
   "cell_type": "code",
   "execution_count": 23,
   "metadata": {},
   "outputs": [
    {
     "name": "stdout",
     "output_type": "stream",
     "text": [
      "      id    status_group\n",
      "0  69572      functional\n",
      "1   8776      functional\n",
      "2  34310      functional\n",
      "3  67743  non functional\n",
      "4  19728      functional\n",
      "['functional' 'non functional' 'functional needs repair']\n",
      "['non functional', 'functional needs repair', 'functional']\n"
     ]
    }
   ],
   "source": [
    "print(y_tr.head(5))\n",
    "#check how many different labels\n",
    "print(y_tr['status_group'].unique())\n",
    "status = ['non functional', 'functional needs repair', 'functional']\n",
    "print(status)\n",
    "#==> 3 labels: functional / not func / needs repair"
   ]
  },
  {
   "cell_type": "code",
   "execution_count": 24,
   "metadata": {},
   "outputs": [],
   "source": [
    "#transform in numerical values (3 classes)\n",
    "catenc = pd.factorize(y_tr['status_group'])   #how to force functional=2,non fun=0, need rep=1?\n",
    "y_tr['label'] = catenc[0]"
   ]
  },
  {
   "cell_type": "code",
   "execution_count": 25,
   "metadata": {},
   "outputs": [
    {
     "data": {
      "text/html": [
       "<div>\n",
       "<style>\n",
       "    .dataframe thead tr:only-child th {\n",
       "        text-align: right;\n",
       "    }\n",
       "\n",
       "    .dataframe thead th {\n",
       "        text-align: left;\n",
       "    }\n",
       "\n",
       "    .dataframe tbody tr th {\n",
       "        vertical-align: top;\n",
       "    }\n",
       "</style>\n",
       "<table border=\"1\" class=\"dataframe\">\n",
       "  <thead>\n",
       "    <tr style=\"text-align: right;\">\n",
       "      <th></th>\n",
       "      <th>id</th>\n",
       "      <th>status_group</th>\n",
       "      <th>label</th>\n",
       "    </tr>\n",
       "  </thead>\n",
       "  <tbody>\n",
       "    <tr>\n",
       "      <th>15</th>\n",
       "      <td>61848</td>\n",
       "      <td>functional</td>\n",
       "      <td>0</td>\n",
       "    </tr>\n",
       "    <tr>\n",
       "      <th>16</th>\n",
       "      <td>48451</td>\n",
       "      <td>non functional</td>\n",
       "      <td>1</td>\n",
       "    </tr>\n",
       "    <tr>\n",
       "      <th>17</th>\n",
       "      <td>58155</td>\n",
       "      <td>non functional</td>\n",
       "      <td>1</td>\n",
       "    </tr>\n",
       "    <tr>\n",
       "      <th>18</th>\n",
       "      <td>34169</td>\n",
       "      <td>functional needs repair</td>\n",
       "      <td>2</td>\n",
       "    </tr>\n",
       "    <tr>\n",
       "      <th>19</th>\n",
       "      <td>18274</td>\n",
       "      <td>functional</td>\n",
       "      <td>0</td>\n",
       "    </tr>\n",
       "    <tr>\n",
       "      <th>20</th>\n",
       "      <td>48375</td>\n",
       "      <td>functional</td>\n",
       "      <td>0</td>\n",
       "    </tr>\n",
       "    <tr>\n",
       "      <th>21</th>\n",
       "      <td>6091</td>\n",
       "      <td>functional</td>\n",
       "      <td>0</td>\n",
       "    </tr>\n",
       "    <tr>\n",
       "      <th>22</th>\n",
       "      <td>58500</td>\n",
       "      <td>functional needs repair</td>\n",
       "      <td>2</td>\n",
       "    </tr>\n",
       "    <tr>\n",
       "      <th>23</th>\n",
       "      <td>37862</td>\n",
       "      <td>functional</td>\n",
       "      <td>0</td>\n",
       "    </tr>\n",
       "    <tr>\n",
       "      <th>24</th>\n",
       "      <td>51058</td>\n",
       "      <td>functional</td>\n",
       "      <td>0</td>\n",
       "    </tr>\n",
       "  </tbody>\n",
       "</table>\n",
       "</div>"
      ],
      "text/plain": [
       "       id             status_group  label\n",
       "15  61848               functional      0\n",
       "16  48451           non functional      1\n",
       "17  58155           non functional      1\n",
       "18  34169  functional needs repair      2\n",
       "19  18274               functional      0\n",
       "20  48375               functional      0\n",
       "21   6091               functional      0\n",
       "22  58500  functional needs repair      2\n",
       "23  37862               functional      0\n",
       "24  51058               functional      0"
      ]
     },
     "execution_count": 25,
     "metadata": {},
     "output_type": "execute_result"
    }
   ],
   "source": [
    "y_tr[15:25]"
   ]
  },
  {
   "cell_type": "markdown",
   "metadata": {},
   "source": [
    "### Re-separate data"
   ]
  },
  {
   "cell_type": "code",
   "execution_count": 26,
   "metadata": {
    "collapsed": true
   },
   "outputs": [],
   "source": [
    "X_tr = X[:X_tr.shape[0]]\n",
    "X_tst = X[X_tr.shape[0]:]"
   ]
  },
  {
   "cell_type": "code",
   "execution_count": 27,
   "metadata": {},
   "outputs": [
    {
     "name": "stdout",
     "output_type": "stream",
     "text": [
      "size train features: 59400, 24725\n",
      "size test features: 14850, 24725\n"
     ]
    }
   ],
   "source": [
    "print('size train features: '+str(X_tr.shape[0])+', '+ str(X_tr.shape[1]))\n",
    "print('size test features: '+str(X_tst.shape[0])+', '+ str(X_tst.shape[1]))"
   ]
  },
  {
   "cell_type": "markdown",
   "metadata": {},
   "source": [
    "### Simple Statistics"
   ]
  },
  {
   "cell_type": "code",
   "execution_count": 28,
   "metadata": {
    "scrolled": true
   },
   "outputs": [],
   "source": [
    "#X_tr.describe()"
   ]
  },
  {
   "cell_type": "markdown",
   "metadata": {},
   "source": [
    "### Normalize data"
   ]
  },
  {
   "cell_type": "code",
   "execution_count": 29,
   "metadata": {},
   "outputs": [
    {
     "name": "stderr",
     "output_type": "stream",
     "text": [
      "/Users/andreacosta/anaconda3/lib/python3.6/site-packages/sklearn/utils/validation.py:475: DataConversionWarning: Data with input dtype int64 was converted to float64 by MinMaxScaler.\n",
      "  warnings.warn(msg, DataConversionWarning)\n"
     ]
    }
   ],
   "source": [
    "from sklearn.preprocessing import MinMaxScaler\n",
    "\n",
    "mms = MinMaxScaler()\n",
    "X_tr_norm = pd.DataFrame(mms.fit_transform(X_tr))\n",
    "X_tst_norm = pd.DataFrame(mms.transform(X_tst))"
   ]
  },
  {
   "cell_type": "markdown",
   "metadata": {},
   "source": [
    "# Now the fun part!"
   ]
  },
  {
   "cell_type": "markdown",
   "metadata": {},
   "source": [
    "## Shuffle"
   ]
  },
  {
   "cell_type": "code",
   "execution_count": 30,
   "metadata": {},
   "outputs": [
    {
     "name": "stdout",
     "output_type": "stream",
     "text": [
      "59400\n",
      "24725\n",
      "14850\n",
      "24725\n"
     ]
    }
   ],
   "source": [
    "#Shuffle in case initial order was not random\n",
    "#X_tr_norm = X_tr_norm.sample(frac=1)\n",
    "#X_tst_norm = X_tst_norm.sample(frac=1)\n",
    "\n",
    "print(X_tr_norm.shape[0])\n",
    "print(X_tr_norm.shape[1])\n",
    "\n",
    "print(X_tst_norm.shape[0])\n",
    "print(X_tst_norm.shape[1])"
   ]
  },
  {
   "cell_type": "markdown",
   "metadata": {},
   "source": [
    "### Dimensionality reduction"
   ]
  },
  {
   "cell_type": "code",
   "execution_count": 31,
   "metadata": {},
   "outputs": [
    {
     "name": "stdout",
     "output_type": "stream",
     "text": [
      "(59400, 2)\n"
     ]
    },
    {
     "data": {
      "image/png": "[encoded data removed]",
      "text/plain": [
       "<matplotlib.figure.Figure at 0x102c63cf8>"
      ]
     },
     "execution_count": 31,
     "metadata": {},
     "output_type": "execute_result"
    }
   ],
   "source": [
    "#PCA (just for visualization now)\n",
    "#retain two dimensions \n",
    "from sklearn.decomposition import PCA\n",
    "model = PCA(n_components=2)\n",
    "model.fit(X_tr_norm)\n",
    "X_tr_norm_2D = model.transform(X_tr_norm)\n",
    "print(X_tr_norm_2D.shape)\n",
    "\n",
    "d = {'label': y_tr['label']}\n",
    "Xred = pd.DataFrame(data=d)\n",
    "\n",
    "Xred['PCA1'] = X_tr_norm_2D[:, 0]\n",
    "Xred['PCA2'] = X_tr_norm_2D[:, 1]\n",
    "\n",
    "f = sns.lmplot(\"PCA1\",\"PCA2\",hue='label',data = Xred, fit_reg=False)\n",
    "f.fig\n",
    "#savefig('PCA2.png')"
   ]
  },
  {
   "cell_type": "code",
   "execution_count": 32,
   "metadata": {},
   "outputs": [
    {
     "name": "stdout",
     "output_type": "stream",
     "text": [
      "(59400, 3)\n"
     ]
    },
    {
     "data": {
      "image/png": "[encoded data removed]",
      "text/plain": [
       "<matplotlib.figure.Figure at 0x102c63cf8>"
      ]
     },
     "metadata": {},
     "output_type": "display_data"
    },
    {
     "data": {
      "image/png": "[encoded data removed]",
      "text/plain": [
       "<matplotlib.figure.Figure at 0x10e20b5f8>"
      ]
     },
     "metadata": {},
     "output_type": "display_data"
    }
   ],
   "source": [
    "model = PCA(n_components=3)\n",
    "model.fit(X_tr_norm)\n",
    "X_tr_norm_3D = model.transform(X_tr_norm)\n",
    "print(X_tr_norm_3D.shape)\n",
    "\n",
    "d = {'label': y_tr['label']}\n",
    "Xred = pd.DataFrame(data=d)\n",
    "\n",
    "Xred['PCA1'] = X_tr_norm_3D[:, 0]\n",
    "Xred['PCA2'] = X_tr_norm_3D[:, 1]\n",
    "Xred['PCA3'] = X_tr_norm_3D[:, 2]\n",
    "\n",
    "fig = plt.figure()\n",
    "ax = fig.add_subplot(111, projection='3d')\n",
    "ax.scatter(Xred['PCA1'], Xred['PCA2'], Xred['PCA3'], c=Xred['label'], s=60)\n",
    "ax.view_init(30, 185)\n",
    "plt.show()\n",
    "#savefig('PCA3.png')"
   ]
  },
  {
   "cell_type": "code",
   "execution_count": null,
   "metadata": {},
   "outputs": [],
   "source": [
    "#use PCA to determine number of components to retain\n",
    "pca = PCA(n_components=150).fit(X_tr_norm)\n",
    "plt.plot(np.cumsum(pca.explained_variance_ratio_))\n",
    "plt.xlabel('number of components')\n",
    "plt.ylabel('cumulative explained variance');"
   ]
  },
  {
   "cell_type": "markdown",
   "metadata": {},
   "source": [
    "## SVM"
   ]
  },
  {
   "cell_type": "code",
   "execution_count": null,
   "metadata": {},
   "outputs": [],
   "source": [
    "from sklearn.svm import SVC\n",
    "\n",
    "model = SVC(kernel='linear',C=0.1) #how to choose C with not too much effort?\n",
    "model.fit(X_tr_norm,y_tr['label'])\n",
    "y_pred = model.predict(X_tr_norm)"
   ]
  },
  {
   "cell_type": "code",
   "execution_count": null,
   "metadata": {},
   "outputs": [],
   "source": [
    "from sklearn.metrics import classification_report\n",
    "\n",
    "print(classification_report(y_tr['label'],y_pred))"
   ]
  },
  {
   "cell_type": "code",
   "execution_count": null,
   "metadata": {
    "collapsed": true
   },
   "outputs": [],
   "source": [
    "#Use PCA to reduce dimensionality\n",
    "from sklearn.decomposition import RandomizedPCA\n",
    "from sklearn.pipeline import make_pipeline\n",
    "\n",
    "pca = RandomizedPCA(n_components=???, whiten=True, random_state=42)\n",
    "svc = SVC(kernel='rbf', class_weight='balanced')\n",
    "model = make_pipeline(pca, svc)\n",
    "\n",
    "from sklearn.cross_validation import train_test_split\n",
    "Xtrain, Xtest, ytrain, ytest = train_test_split(X_tr_norm, y_tr,\n",
    "                                                random_state=42)\n",
    "\n",
    "from sklearn.grid_search import GridSearchCV\n",
    "param_grid = {'svc__C': [1, 5, 10, 50],\n",
    "              'svc__gamma': [0.0001, 0.0005, 0.001, 0.005]}\n",
    "grid = GridSearchCV(model, param_grid)\n",
    "\n",
    "%time grid.fit(Xtrain, ytrain)\n",
    "print(grid.best_params_)\n",
    "\n",
    "#performance\n",
    "model = grid.best_estimator_\n",
    "yfit = model.predict(Xtest)\n",
    "print(classification_report(ytest, yfit,\n",
    "                            target_names=faces.target_names))\n",
    "\n",
    "#confusion matrix\n",
    "from sklearn.metrics import confusion_matrix\n",
    "mat = confusion_matrix(ytest, yfit)\n",
    "sns.heatmap(mat.T, square=True, annot=True, fmt='d', cbar=False,\n",
    "            xticklabels=faces.target_names,\n",
    "            yticklabels=faces.target_names)\n",
    "plt.xlabel('true label')\n",
    "plt.ylabel('predicted label');"
   ]
  },
  {
   "cell_type": "markdown",
   "metadata": {},
   "source": [
    "## Naive Bayes"
   ]
  },
  {
   "cell_type": "code",
   "execution_count": null,
   "metadata": {},
   "outputs": [],
   "source": [
    "from sklearn.naive_bayes import GaussianNB\n",
    "model = GaussianNB()\n",
    "model.fit(X_tr_norm,y_tr['label'])\n",
    "y_pred = model.predict(X_tr_norm)\n",
    "\n",
    "print(classification_report(y_tr['label'],y_pred))"
   ]
  },
  {
   "cell_type": "markdown",
   "metadata": {},
   "source": [
    "## Multinomial Naive Bayes"
   ]
  },
  {
   "cell_type": "code",
   "execution_count": null,
   "metadata": {},
   "outputs": [],
   "source": [
    "from sklearn.naive_bayes import MultinomialNB\n",
    "model = MultinomialNB()\n",
    "model.fit(X_tr_norm,y_tr['label'])\n",
    "y_pred = model.predict(X_tr_norm)\n",
    "\n",
    "print(classification_report(y_tr['label'],y_pred))"
   ]
  },
  {
   "cell_type": "markdown",
   "metadata": {},
   "source": [
    "## Logistic regression"
   ]
  },
  {
   "cell_type": "code",
   "execution_count": null,
   "metadata": {
    "collapsed": true
   },
   "outputs": [],
   "source": []
  },
  {
   "cell_type": "markdown",
   "metadata": {},
   "source": [
    "## Random Forest"
   ]
  },
  {
   "cell_type": "code",
   "execution_count": null,
   "metadata": {},
   "outputs": [],
   "source": [
    "from sklearn.tree import DecisionTreeClassifier\n",
    "from sklearn.ensemble import BaggingClassifier #ensamble \n",
    "\n",
    "RFC = DecisionTreeClassifier()\n",
    "bag = BaggingClassifier(RFC, n_estimators=100, max_samples=0.8,\n",
    "                        random_state=1)\n",
    "#training\n",
    "bag.fit(X_tr_norm, y_tr['label'])\n",
    "\n",
    "#prediction\n",
    "y_pred = model.predict(X_tr_norm)\n",
    "\n",
    "#performance\n",
    "from sklearn import metrics\n",
    "\n",
    "print(metrics.classification_report(y_pred, y_tr['label']))"
   ]
  },
  {
   "cell_type": "markdown",
   "metadata": {},
   "source": [
    "## XGBoost"
   ]
  },
  {
   "cell_type": "code",
   "execution_count": null,
   "metadata": {
    "collapsed": true
   },
   "outputs": [],
   "source": []
  },
  {
   "cell_type": "code",
   "execution_count": null,
   "metadata": {
    "collapsed": true
   },
   "outputs": [],
   "source": []
  },
  {
   "cell_type": "code",
   "execution_count": null,
   "metadata": {
    "collapsed": true
   },
   "outputs": [],
   "source": []
  }
 ],
 "metadata": {
  "kernelspec": {
   "display_name": "Python 3",
   "language": "python",
   "name": "python3"
  },
  "language_info": {
   "codemirror_mode": {
    "name": "ipython",
    "version": 3
   },
   "file_extension": ".py",
   "mimetype": "text/x-python",
   "name": "python",
   "nbconvert_exporter": "python",
   "pygments_lexer": "ipython3",
   "version": "3.6.3"
  }
 },
 "nbformat": 4,
 "nbformat_minor": 2
}
